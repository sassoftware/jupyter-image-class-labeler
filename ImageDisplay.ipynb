{
 "cells": [
  {
   "cell_type": "markdown",
   "metadata": {},
   "source": [
    "# Image Display - for viewing a batch of images and optionally taking notes on any images"
   ]
  },
  {
   "cell_type": "markdown",
   "metadata": {},
   "source": [
    "## Import packages and define helper functions"
   ]
  },
  {
   "cell_type": "code",
   "execution_count": 1,
   "metadata": {},
   "outputs": [],
   "source": [
    "import cv2\n",
    "from IPython.display import display, clear_output\n",
    "from PIL import Image\n",
    "\n",
    "import os\n",
    "import json\n",
    "from datetime import datetime\n",
    "\n",
    "import random"
   ]
  },
  {
   "cell_type": "code",
   "execution_count": 2,
   "metadata": {},
   "outputs": [],
   "source": [
    "def get_user_input():\n",
    "    notes = input(\"Notes:  \")\n",
    "    return notes"
   ]
  },
  {
   "cell_type": "code",
   "execution_count": 3,
   "metadata": {},
   "outputs": [],
   "source": [
    "def save_notes(N):\n",
    "    timestr = datetime.now().strftime(\"%m_%d_%Y_%H%M_%S\")\n",
    "    \n",
    "    outname = f\"./Notes_{timestr}.json\"\n",
    "    json.dump(N, open(outname, \"w\"))\n",
    "    print(f\"Your notes have been saved as: {outname}\")\n",
    "    return"
   ]
  },
  {
   "cell_type": "markdown",
   "metadata": {},
   "source": [
    "## Next cell is the main driver for viewing images and optionally taking notes."
   ]
  },
  {
   "cell_type": "code",
   "execution_count": 4,
   "metadata": {},
   "outputs": [
    {
     "data": {
      "image/png": "[encoded data removed]",
      "text/plain": [
       "<PIL.Image.Image image mode=RGB size=280x280 at 0x20D02EB3F98>"
      ]
     },
     "metadata": {},
     "output_type": "display_data"
    },
    {
     "name": "stdout",
     "output_type": "stream",
     "text": [
      "Now showing: img29.png\n"
     ]
    },
    {
     "name": "stdin",
     "output_type": "stream",
     "text": [
      "Notes:   This is an example of taking free-form notes on img29.png\n",
      "Press any key to continue or 'q' to quit q\n"
     ]
    },
    {
     "name": "stdout",
     "output_type": "stream",
     "text": [
      "Your notes have been saved as: ./Notes_01_20_2021_1544_46.json\n"
     ]
    }
   ],
   "source": [
    "Notes = {}\n",
    "\n",
    "src_imgdir = \"./data/\"\n",
    "\n",
    "imgfiles = [i for i in os.listdir(src_imgdir) if i.endswith('.png')]\n",
    "\n",
    "random.shuffle(imgfiles)\n",
    "\n",
    "for imgfile in imgfiles:\n",
    "    img = cv2.imread(f\"{src_imgdir}{imgfile}\")\n",
    "    \n",
    "    img = cv2.cvtColor(img, cv2.COLOR_BGR2RGB) # Converting BGR to RGB\n",
    "    img = cv2.resize(img, (0, 0), fx = 10, fy = 10) \n",
    "    \n",
    "    display(Image.fromarray(img))\n",
    "    print(f'Now showing: {imgfile}')\n",
    "    \n",
    "    notes = get_user_input()\n",
    "    if notes != '':\n",
    "        Notes[imgfile] = notes\n",
    "        \n",
    "    if input(\"Press any key to continue or 'q' to quit\") != 'q':\n",
    "        clear_output()\n",
    "        continue\n",
    "    else:\n",
    "        break\n",
    "    \n",
    "    clear_output()\n",
    "    \n",
    "if len(Notes)>0:\n",
    "    save_notes(Notes)"
   ]
  },
  {
   "cell_type": "code",
   "execution_count": null,
   "metadata": {},
   "outputs": [],
   "source": []
  }
 ],
 "metadata": {
  "kernelspec": {
   "display_name": "Python 3",
   "language": "python",
   "name": "python3"
  },
  "language_info": {
   "codemirror_mode": {
    "name": "ipython",
    "version": 3
   },
   "file_extension": ".py",
   "mimetype": "text/x-python",
   "name": "python",
   "nbconvert_exporter": "python",
   "pygments_lexer": "ipython3",
   "version": "3.6.10"
  }
 },
 "nbformat": 4,
 "nbformat_minor": 4
}
