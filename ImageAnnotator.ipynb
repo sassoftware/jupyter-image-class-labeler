{
 "cells": [
  {
   "cell_type": "markdown",
   "metadata": {},
   "source": [
    "# Image Annotator for Labelling Images Into User-Defined Categories"
   ]
  },
  {
   "cell_type": "markdown",
   "metadata": {},
   "source": [
    "## Import packages and define essential helper functions"
   ]
  },
  {
   "cell_type": "code",
   "execution_count": 1,
   "metadata": {},
   "outputs": [],
   "source": [
    "import cv2\n",
    "from IPython.display import display, clear_output\n",
    "from PIL import Image\n",
    "\n",
    "import os, shutil\n",
    "import json\n",
    "import random\n",
    "from datetime import datetime"
   ]
  },
  {
   "cell_type": "code",
   "execution_count": 2,
   "metadata": {},
   "outputs": [],
   "source": [
    "def mkdict_from_user():\n",
    "    userdict = {}\n",
    "    while True:\n",
    "        res = input(\"Enter 'class_labels:keyboard_shortcut', such as 'bag:b', or 'q' to quit -->  \")\n",
    "        if res == 'q':\n",
    "            break\n",
    "        else:\n",
    "            key, val = res.split(':')\n",
    "            userdict[key] = val\n",
    "    \n",
    "    return userdict"
   ]
  },
  {
   "cell_type": "code",
   "execution_count": 3,
   "metadata": {},
   "outputs": [],
   "source": [
    "def set_up_subdirs(target_dir):\n",
    "\n",
    "    if target_dir.endswith('/'):\n",
    "        target_dir = target_dir[:-1]\n",
    "        \n",
    "    os.mkdir(target_dir)\n",
    "    \n",
    "    for label in user_labels.keys():\n",
    "        os.mkdir(f\"{target_dir}/{label}\")\n",
    "    \n",
    "    return"
   ]
  },
  {
   "cell_type": "code",
   "execution_count": 4,
   "metadata": {},
   "outputs": [],
   "source": [
    "def get_userinput(user_labels):\n",
    "    \n",
    "    notes = 'default'\n",
    "    \n",
    "    valid_labels = tuple(user_labels.values())\n",
    "    \n",
    "    while True:\n",
    "        KBN = Keyborad_Shortcut_For_Notes = '7'\n",
    "        \n",
    "        userinput = input(f\"Valid Shortcuts: {valid_labels} <Append'{KBN}' for Notes> ... \")\n",
    "        \n",
    "        L = len(userinput)\n",
    "        if L not in [1,2]:\n",
    "            print('Invalid input, try again...')\n",
    "            continue\n",
    "        \n",
    "        if userinput[0] not in valid_labels:\n",
    "            print(f'Invalid input, valid labels are {valid_labels} try again...')\n",
    "            continue\n",
    "            \n",
    "        if L==2:\n",
    "            if userinput[1] != KBN:\n",
    "                print(f\"Invalid, second letter if present must be the keyboard shortcut for notes: '{KBN}' \")\n",
    "            else:\n",
    "                usernote  = input(\"Notes: \")\n",
    "                if len(usernote)>0:\n",
    "                    notes = usernote\n",
    "                break\n",
    "        \n",
    "        else:\n",
    "            break\n",
    "        \n",
    "    return userinput[0], notes\n",
    "            "
   ]
  },
  {
   "cell_type": "code",
   "execution_count": 5,
   "metadata": {},
   "outputs": [],
   "source": [
    "def inv_dict(my_map):\n",
    "    inv_map = {v: k for k, v in my_map.items()}\n",
    "    return inv_map"
   ]
  },
  {
   "cell_type": "markdown",
   "metadata": {},
   "source": [
    "Notes are saved as a json file with a unique name using an appended timestamp. Advanced users can modify this to change where to save the notes or how to name it."
   ]
  },
  {
   "cell_type": "code",
   "execution_count": 6,
   "metadata": {},
   "outputs": [],
   "source": [
    "def save_notes(N):\n",
    "    timestr = datetime.now().strftime(\"%m_%d_%Y_%H%M_%S\")\n",
    "    \n",
    "    outname = f\"./Notes_{timestr}.json\"\n",
    "    json.dump(N, open(outname, \"w\"))\n",
    "    \n",
    "    return"
   ]
  },
  {
   "cell_type": "markdown",
   "metadata": {},
   "source": [
    "## Define the main driver function for labelling"
   ]
  },
  {
   "cell_type": "code",
   "execution_count": 7,
   "metadata": {},
   "outputs": [],
   "source": [
    "def goLabel(user_labels, src_imgdir, target_dir, img_extension='.png'):\n",
    "    #src_imgdir = f\"./images/\"\n",
    "    \n",
    "    inv_user_labels = inv_dict(user_labels)\n",
    "    \n",
    "    if src_imgdir.endswith('/'):\n",
    "        src_imgdir = src_imgdir[:-1]\n",
    "    \n",
    "    Notes = {}\n",
    "    \n",
    "    imgfiles = [i for i in os.listdir(src_imgdir) if i.endswith(img_extension)]\n",
    "    random.shuffle(imgfiles)\n",
    "    sess_count = 0\n",
    "    \n",
    "    for imgfile in imgfiles:\n",
    "        img = cv2.imread(f\"{src_imgdir}/{imgfile}\")\n",
    "        img = cv2.resize(img, (0, 0), fx = 10, fy = 10) \n",
    "        \n",
    "        display(Image.fromarray(img))\n",
    "        print(f'Now Showing {imgfile}')\n",
    "        \n",
    "        label, notes = get_userinput(user_labels)\n",
    "        \n",
    "        if notes != 'default':\n",
    "            Notes[imgfile] = notes\n",
    "        \n",
    "        subdir = inv_user_labels[label]\n",
    "            \n",
    "        print(\"Moving ...\")\n",
    "        shutil.move(f\"{src_imgdir}/{imgfile}\", f\"{target_dir}/{subdir}\")\n",
    "        sess_count += 1\n",
    "        \n",
    "        if input(\"Press any key to continue or 'q' to quit\") != 'q':\n",
    "            clear_output()\n",
    "            continue\n",
    "        \n",
    "        else:\n",
    "            break\n",
    "            \n",
    "        clear_output()\n",
    "\n",
    "        \n",
    "    if len(Notes)>0:\n",
    "        save_notes(Notes)\n",
    "        \n",
    "    print(f\"You Labelled {sess_count} images in this round. Hooray!\")"
   ]
  },
  {
   "cell_type": "markdown",
   "metadata": {},
   "source": [
    "## Set up labels and keyboard shortcuts"
   ]
  },
  {
   "cell_type": "code",
   "execution_count": 8,
   "metadata": {},
   "outputs": [
    {
     "name": "stdin",
     "output_type": "stream",
     "text": [
      "Enter 'class_labels:keyboard_shortcut', such as 'bag:b', or 'q' to quit -->   bag:b\n",
      "Enter 'class_labels:keyboard_shortcut', such as 'bag:b', or 'q' to quit -->   dress:d\n",
      "Enter 'class_labels:keyboard_shortcut', such as 'bag:b', or 'q' to quit -->   shoe:s\n",
      "Enter 'class_labels:keyboard_shortcut', such as 'bag:b', or 'q' to quit -->   other:o\n",
      "Enter 'class_labels:keyboard_shortcut', such as 'bag:b', or 'q' to quit -->   q\n"
     ]
    }
   ],
   "source": [
    "user_labels = mkdict_from_user()\n",
    "# For example, bag:b, dress:d, shoe:s, other:o"
   ]
  },
  {
   "cell_type": "markdown",
   "metadata": {},
   "source": [
    "## Select a destination folder for labelled images"
   ]
  },
  {
   "cell_type": "code",
   "execution_count": 9,
   "metadata": {},
   "outputs": [
    {
     "name": "stdin",
     "output_type": "stream",
     "text": [
      "Enter a valid path for target directory labelled_images\n"
     ]
    }
   ],
   "source": [
    "target_dir = input(\"Enter a valid path for target directory\")"
   ]
  },
  {
   "cell_type": "markdown",
   "metadata": {},
   "source": [
    "## Setup subdirectories for each label.\n",
    "If the subdirectories already exist from previously running this step, then you can skip the next step."
   ]
  },
  {
   "cell_type": "code",
   "execution_count": 10,
   "metadata": {},
   "outputs": [],
   "source": [
    "set_up_subdirs(target_dir)"
   ]
  },
  {
   "cell_type": "markdown",
   "metadata": {},
   "source": [
    "## Main driver for labelling\n",
    "### Rerun the following cell as many times as needed to label more batches of images"
   ]
  },
  {
   "cell_type": "code",
   "execution_count": 11,
   "metadata": {},
   "outputs": [
    {
     "data": {
      "image/png": "[encoded data removed]",
      "text/plain": [
       "<PIL.Image.Image image mode=RGB size=280x280 at 0x1A3C2244A20>"
      ]
     },
     "metadata": {},
     "output_type": "display_data"
    },
    {
     "name": "stdout",
     "output_type": "stream",
     "text": [
      "Now Showing img16.png\n"
     ]
    },
    {
     "name": "stdin",
     "output_type": "stream",
     "text": [
      "Valid Shortcuts: ('b', 'd', 's', 'o') <Append'7' for Notes> ...  d\n"
     ]
    },
    {
     "name": "stdout",
     "output_type": "stream",
     "text": [
      "Moving ...\n"
     ]
    },
    {
     "name": "stdin",
     "output_type": "stream",
     "text": [
      "Press any key to continue or 'q' to quit q\n"
     ]
    },
    {
     "name": "stdout",
     "output_type": "stream",
     "text": [
      "You Labelled 2 images in this round. Hooray!\n"
     ]
    }
   ],
   "source": [
    "goLabel(user_labels, './images', target_dir)"
   ]
  },
  {
   "cell_type": "code",
   "execution_count": null,
   "metadata": {},
   "outputs": [],
   "source": []
  }
 ],
 "metadata": {
  "kernelspec": {
   "display_name": "Python 3",
   "language": "python",
   "name": "python3"
  },
  "language_info": {
   "codemirror_mode": {
    "name": "ipython",
    "version": 3
   },
   "file_extension": ".py",
   "mimetype": "text/x-python",
   "name": "python",
   "nbconvert_exporter": "python",
   "pygments_lexer": "ipython3",
   "version": "3.6.10"
  }
 },
 "nbformat": 4,
 "nbformat_minor": 4
}
